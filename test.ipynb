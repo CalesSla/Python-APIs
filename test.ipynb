{
 "cells": [
  {
   "cell_type": "code",
   "execution_count": 9,
   "metadata": {},
   "outputs": [
    {
     "name": "stdout",
     "output_type": "stream",
     "text": [
      "{'detail': 'Method Not Allowed'}\n"
     ]
    }
   ],
   "source": [
    "import requests\n",
    "import json\n",
    "\n",
    "url = 'http://127.0.0.1:8000/posts/{id}'\n",
    "\n",
    "data = {\n",
    "    'id': 1,\n",
    "}\n",
    "\n",
    "response = requests.post(url, data=json.dumps(data))\n",
    "\n",
    "# print(response.status_code)\n",
    "print(response.json())"
   ]
  },
  {
   "cell_type": "code",
   "execution_count": 14,
   "metadata": {},
   "outputs": [
    {
     "name": "stdout",
     "output_type": "stream",
     "text": [
      "{'title': 'title of post 1', 'content': 'content of post 1', 'id': 1}\n"
     ]
    }
   ],
   "source": [
    "\n",
    "base_url = \"http://127.0.0.1:8000\"\n",
    "post_id = 1\n",
    "\n",
    "response = requests.get(f\"{base_url}/posts/{post_id}\")\n",
    "\n",
    "print(response.json()['post_detail'])"
   ]
  },
  {
   "cell_type": "code",
   "execution_count": null,
   "metadata": {},
   "outputs": [],
   "source": []
  }
 ],
 "metadata": {
  "kernelspec": {
   "display_name": "fastapivenv",
   "language": "python",
   "name": "python3"
  },
  "language_info": {
   "codemirror_mode": {
    "name": "ipython",
    "version": 3
   },
   "file_extension": ".py",
   "mimetype": "text/x-python",
   "name": "python",
   "nbconvert_exporter": "python",
   "pygments_lexer": "ipython3",
   "version": "3.11.4"
  }
 },
 "nbformat": 4,
 "nbformat_minor": 2
}
